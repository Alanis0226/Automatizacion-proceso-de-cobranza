{
 "cells": [
  {
   "cell_type": "code",
   "execution_count": 21,
   "metadata": {},
   "outputs": [],
   "source": [
    "import pandas as pd\n",
    "import numpy as np\n"
   ]
  },
  {
   "cell_type": "code",
   "execution_count": 22,
   "metadata": {},
   "outputs": [
    {
     "data": {
      "text/html": [
       "<div>\n",
       "<style scoped>\n",
       "    .dataframe tbody tr th:only-of-type {\n",
       "        vertical-align: middle;\n",
       "    }\n",
       "\n",
       "    .dataframe tbody tr th {\n",
       "        vertical-align: top;\n",
       "    }\n",
       "\n",
       "    .dataframe thead th {\n",
       "        text-align: right;\n",
       "    }\n",
       "</style>\n",
       "<table border=\"1\" class=\"dataframe\">\n",
       "  <thead>\n",
       "    <tr style=\"text-align: right;\">\n",
       "      <th></th>\n",
       "      <th>ID</th>\n",
       "      <th>IDRef</th>\n",
       "      <th>ValorFacturado</th>\n",
       "      <th>ValorRecuperado</th>\n",
       "      <th>EstadoCobro</th>\n",
       "      <th>Factura</th>\n",
       "      <th>FechaFactura</th>\n",
       "    </tr>\n",
       "  </thead>\n",
       "  <tbody>\n",
       "    <tr>\n",
       "      <th>0</th>\n",
       "      <td>720</td>\n",
       "      <td>1</td>\n",
       "      <td>403608.52800</td>\n",
       "      <td>1.009023e+06</td>\n",
       "      <td>Facturado</td>\n",
       "      <td>FVE168</td>\n",
       "      <td>2025-06-17</td>\n",
       "    </tr>\n",
       "    <tr>\n",
       "      <th>1</th>\n",
       "      <td>715</td>\n",
       "      <td>1</td>\n",
       "      <td>506353.54944</td>\n",
       "      <td>1.265883e+06</td>\n",
       "      <td>Facturado</td>\n",
       "      <td>FVE166</td>\n",
       "      <td>2025-06-13</td>\n",
       "    </tr>\n",
       "    <tr>\n",
       "      <th>2</th>\n",
       "      <td>715</td>\n",
       "      <td>2</td>\n",
       "      <td>555921.13344</td>\n",
       "      <td>1.389802e+06</td>\n",
       "      <td>Facturado</td>\n",
       "      <td>FVE166</td>\n",
       "      <td>2025-06-13</td>\n",
       "    </tr>\n",
       "    <tr>\n",
       "      <th>3</th>\n",
       "      <td>723</td>\n",
       "      <td>1</td>\n",
       "      <td>494194.36800</td>\n",
       "      <td>1.235485e+06</td>\n",
       "      <td>Facturado</td>\n",
       "      <td>FVE165</td>\n",
       "      <td>2025-06-13</td>\n",
       "    </tr>\n",
       "    <tr>\n",
       "      <th>4</th>\n",
       "      <td>704</td>\n",
       "      <td>1</td>\n",
       "      <td>812360.23296</td>\n",
       "      <td>2.030901e+06</td>\n",
       "      <td>Facturado</td>\n",
       "      <td>FVE162</td>\n",
       "      <td>2025-06-09</td>\n",
       "    </tr>\n",
       "  </tbody>\n",
       "</table>\n",
       "</div>"
      ],
      "text/plain": [
       "    ID  IDRef  ValorFacturado  ValorRecuperado EstadoCobro Factura  \\\n",
       "0  720      1    403608.52800     1.009023e+06   Facturado  FVE168   \n",
       "1  715      1    506353.54944     1.265883e+06   Facturado  FVE166   \n",
       "2  715      2    555921.13344     1.389802e+06   Facturado  FVE166   \n",
       "3  723      1    494194.36800     1.235485e+06   Facturado  FVE165   \n",
       "4  704      1    812360.23296     2.030901e+06   Facturado  FVE162   \n",
       "\n",
       "  FechaFactura  \n",
       "0   2025-06-17  \n",
       "1   2025-06-13  \n",
       "2   2025-06-13  \n",
       "3   2025-06-13  \n",
       "4   2025-06-09  "
      ]
     },
     "execution_count": 22,
     "metadata": {},
     "output_type": "execute_result"
    }
   ],
   "source": [
    "cobranza = pd.read_excel(\"data/tabla_ejemplo_clientes.xlsx\")\n",
    "cobranza.head()\n"
   ]
  },
  {
   "cell_type": "code",
   "execution_count": 24,
   "metadata": {},
   "outputs": [
    {
     "name": "stdout",
     "output_type": "stream",
     "text": [
      "<class 'pandas.core.frame.DataFrame'>\n",
      "RangeIndex: 938 entries, 0 to 937\n",
      "Data columns (total 7 columns):\n",
      " #   Column           Non-Null Count  Dtype         \n",
      "---  ------           --------------  -----         \n",
      " 0   ID               938 non-null    int64         \n",
      " 1   IDRef            938 non-null    int64         \n",
      " 2   ValorFacturado   342 non-null    float64       \n",
      " 3   ValorRecuperado  342 non-null    float64       \n",
      " 4   EstadoCobro      330 non-null    object        \n",
      " 5   Factura          312 non-null    object        \n",
      " 6   FechaFactura     312 non-null    datetime64[ns]\n",
      "dtypes: datetime64[ns](1), float64(2), int64(2), object(2)\n",
      "memory usage: 51.4+ KB\n"
     ]
    }
   ],
   "source": [
    "cobranza.info()"
   ]
  },
  {
   "cell_type": "code",
   "execution_count": 25,
   "metadata": {},
   "outputs": [
    {
     "data": {
      "text/html": [
       "<div>\n",
       "<style scoped>\n",
       "    .dataframe tbody tr th:only-of-type {\n",
       "        vertical-align: middle;\n",
       "    }\n",
       "\n",
       "    .dataframe tbody tr th {\n",
       "        vertical-align: top;\n",
       "    }\n",
       "\n",
       "    .dataframe thead th {\n",
       "        text-align: right;\n",
       "    }\n",
       "</style>\n",
       "<table border=\"1\" class=\"dataframe\">\n",
       "  <thead>\n",
       "    <tr style=\"text-align: right;\">\n",
       "      <th></th>\n",
       "      <th>Valores Nulos</th>\n",
       "      <th>Porcentaje (%)</th>\n",
       "    </tr>\n",
       "  </thead>\n",
       "  <tbody>\n",
       "    <tr>\n",
       "      <th>ID</th>\n",
       "      <td>0</td>\n",
       "      <td>0.00</td>\n",
       "    </tr>\n",
       "    <tr>\n",
       "      <th>IDRef</th>\n",
       "      <td>0</td>\n",
       "      <td>0.00</td>\n",
       "    </tr>\n",
       "    <tr>\n",
       "      <th>ValorFacturado</th>\n",
       "      <td>596</td>\n",
       "      <td>63.54</td>\n",
       "    </tr>\n",
       "    <tr>\n",
       "      <th>ValorRecuperado</th>\n",
       "      <td>596</td>\n",
       "      <td>63.54</td>\n",
       "    </tr>\n",
       "    <tr>\n",
       "      <th>EstadoCobro</th>\n",
       "      <td>608</td>\n",
       "      <td>64.82</td>\n",
       "    </tr>\n",
       "    <tr>\n",
       "      <th>Factura</th>\n",
       "      <td>626</td>\n",
       "      <td>66.74</td>\n",
       "    </tr>\n",
       "    <tr>\n",
       "      <th>FechaFactura</th>\n",
       "      <td>626</td>\n",
       "      <td>66.74</td>\n",
       "    </tr>\n",
       "  </tbody>\n",
       "</table>\n",
       "</div>"
      ],
      "text/plain": [
       "                 Valores Nulos  Porcentaje (%)\n",
       "ID                           0            0.00\n",
       "IDRef                        0            0.00\n",
       "ValorFacturado             596           63.54\n",
       "ValorRecuperado            596           63.54\n",
       "EstadoCobro                608           64.82\n",
       "Factura                    626           66.74\n",
       "FechaFactura               626           66.74"
      ]
     },
     "execution_count": 25,
     "metadata": {},
     "output_type": "execute_result"
    }
   ],
   "source": [
    "# Faltantes\n",
    "total_filas = cobranza.shape[0]\n",
    "\n",
    "# Cantidad y porcentaje de nulos por columna\n",
    "faltantes = cobranza.isnull().sum()\n",
    "porcentaje = (faltantes / total_filas) * 100\n",
    "\n",
    "columnas_faltantes = pd.DataFrame({\n",
    "    'Valores Nulos': faltantes,\n",
    "    'Porcentaje (%)': porcentaje.round(2)\n",
    "})\n",
    "\n",
    "columnas_faltantes\n"
   ]
  },
  {
   "cell_type": "code",
   "execution_count": 26,
   "metadata": {},
   "outputs": [],
   "source": [
    "# Reemplazar 'N/A' y 'NULL' (string) por np.nan en todo el DataFrame\n",
    "cobranza.replace([\"N/A\", \"NULL\"], np.nan, inplace=True)"
   ]
  }
 ],
 "metadata": {
  "kernelspec": {
   "display_name": "Python 3",
   "language": "python",
   "name": "python3"
  },
  "language_info": {
   "codemirror_mode": {
    "name": "ipython",
    "version": 3
   },
   "file_extension": ".py",
   "mimetype": "text/x-python",
   "name": "python",
   "nbconvert_exporter": "python",
   "pygments_lexer": "ipython3",
   "version": "3.11.9"
  }
 },
 "nbformat": 4,
 "nbformat_minor": 2
}
